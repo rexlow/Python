{
 "cells": [
  {
   "cell_type": "markdown",
   "metadata": {},
   "source": [
    "### Problem Statement\n",
    "\n",
    "Mr. Anant Asankhya is the manager at INFINITE hotel. The hotel has an infinite amount of rooms.\n",
    "One fine day, a finite number of tourists came to stay at the hotel. \n",
    "\n",
    "Tourists consisted of :\n",
    "→ a Captain.\n",
    "→ Equal sized group of families (size K each and K ≠ 1).\n",
    "\n",
    "The Captain was given a separate room and rest were given one room per group.\n",
    "Mr. Anant has an unordered list of randomly arranged room entries. The list consists of room numbers of all the tourists. The room numbers will appear K times per group except for the Captain's room.\n",
    "\n",
    "Mr. Anant needs help from you to find the Captain's room number. \n",
    "Total number of Tourists or total group of families is not known to you. \n",
    "You only have the value of K and room number list.\n",
    "\n",
    "### Input Format\n",
    "First line consists of K (The size of each group).\n",
    "\n",
    "Second line consists of room number list.\n",
    "\n",
    "### Constraints\n",
    "1<K<1000\n",
    "\n",
    "### Output Format\n",
    "Output the Captain's room number.\n",
    "\n",
    "### Sample Input\n",
    "5\n",
    "\n",
    "1 2 3 6 5 4 4 2 5 3 6 1 6 5 3 2 4 1 2 5 1 4 3 6 8 4 3 1 5 6 2 \n",
    "\n",
    "### Sample Output\n",
    "8\n",
    "\n",
    "### Explanation\n",
    "In the given list all the numbers repeat 5 times except room number 8. \n",
    "\n",
    "Hence, 8 is the Captain's room number."
   ]
  },
  {
   "cell_type": "code",
   "execution_count": 3,
   "metadata": {},
   "outputs": [],
   "source": [
    "from collections import Counter"
   ]
  },
  {
   "cell_type": "code",
   "execution_count": 4,
   "metadata": {},
   "outputs": [],
   "source": [
    "a = 5\n",
    "b = [1, 2, 3, 6, 5, 4, 4, 2, 5, 3, 6, 1, 6, 5, 3, 2, 4, 1, 2, 5, 1, 4, 3, 6, 8, 4, 3, 1, 5, 6, 2]"
   ]
  },
  {
   "cell_type": "code",
   "execution_count": 7,
   "metadata": {},
   "outputs": [],
   "source": [
    "d = dict(Counter(b))"
   ]
  },
  {
   "cell_type": "code",
   "execution_count": 9,
   "metadata": {},
   "outputs": [],
   "source": [
    "ans = min(d, key=lambda k: d[k])"
   ]
  },
  {
   "cell_type": "code",
   "execution_count": 10,
   "metadata": {},
   "outputs": [
    {
     "name": "stdout",
     "output_type": "stream",
     "text": [
      "8\n"
     ]
    }
   ],
   "source": [
    "print(ans)"
   ]
  },
  {
   "cell_type": "code",
   "execution_count": null,
   "metadata": {},
   "outputs": [],
   "source": []
  }
 ],
 "metadata": {
  "kernelspec": {
   "display_name": "Python 3",
   "language": "python",
   "name": "python3"
  },
  "language_info": {
   "codemirror_mode": {
    "name": "ipython",
    "version": 3
   },
   "file_extension": ".py",
   "mimetype": "text/x-python",
   "name": "python",
   "nbconvert_exporter": "python",
   "pygments_lexer": "ipython3",
   "version": "3.6.5"
  }
 },
 "nbformat": 4,
 "nbformat_minor": 2
}
